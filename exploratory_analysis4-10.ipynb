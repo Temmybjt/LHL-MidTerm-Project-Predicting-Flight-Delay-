{
 "cells": [
  {
   "cell_type": "markdown",
   "metadata": {},
   "source": [
    "## Exploratory Data Analysis\n",
    "\n",
    "Use this notebook to get familiar with the datasets we have. There is 10 questions we need to answer during the EDA.\n",
    "\n",
    "\n",
    "We shouldn't limit our EDA to these 10 questions. Let's be creative :)."
   ]
  },
  {
   "cell_type": "code",
   "execution_count": 2,
   "metadata": {},
   "outputs": [],
   "source": [
    "import numpy as np\n",
    "import pandas as pd\n",
    "import matplotlib.pyplot as plt\n",
    "import seaborn as sns\n",
    "import psycopg2\n",
    "\n",
    "\n",
    "%matplotlib inline"
   ]
  },
  {
   "cell_type": "code",
   "execution_count": 3,
   "metadata": {},
   "outputs": [
    {
     "data": {
      "text/html": [
       "<div>\n",
       "<style scoped>\n",
       "    .dataframe tbody tr th:only-of-type {\n",
       "        vertical-align: middle;\n",
       "    }\n",
       "\n",
       "    .dataframe tbody tr th {\n",
       "        vertical-align: top;\n",
       "    }\n",
       "\n",
       "    .dataframe thead th {\n",
       "        text-align: right;\n",
       "    }\n",
       "</style>\n",
       "<table border=\"1\" class=\"dataframe\">\n",
       "  <thead>\n",
       "    <tr style=\"text-align: right;\">\n",
       "      <th></th>\n",
       "      <th>departures_scheduled</th>\n",
       "      <th>departures_performed</th>\n",
       "      <th>payload</th>\n",
       "      <th>seats</th>\n",
       "      <th>passengers</th>\n",
       "      <th>freight</th>\n",
       "      <th>mail</th>\n",
       "      <th>distance</th>\n",
       "      <th>ramp_to_ramp</th>\n",
       "      <th>air_time</th>\n",
       "      <th>...</th>\n",
       "      <th>dest_country</th>\n",
       "      <th>dest_country_name</th>\n",
       "      <th>aircraft_group</th>\n",
       "      <th>aircraft_type</th>\n",
       "      <th>aircraft_config</th>\n",
       "      <th>year</th>\n",
       "      <th>month</th>\n",
       "      <th>distance_group</th>\n",
       "      <th>class</th>\n",
       "      <th>data_source</th>\n",
       "    </tr>\n",
       "  </thead>\n",
       "  <tbody>\n",
       "    <tr>\n",
       "      <th>0</th>\n",
       "      <td>0</td>\n",
       "      <td>1</td>\n",
       "      <td>5600</td>\n",
       "      <td>0</td>\n",
       "      <td>0</td>\n",
       "      <td>0</td>\n",
       "      <td>0</td>\n",
       "      <td>228</td>\n",
       "      <td>60</td>\n",
       "      <td>48</td>\n",
       "      <td>...</td>\n",
       "      <td>US</td>\n",
       "      <td>United States</td>\n",
       "      <td>6</td>\n",
       "      <td>681</td>\n",
       "      <td>2</td>\n",
       "      <td>2019</td>\n",
       "      <td>6</td>\n",
       "      <td>1</td>\n",
       "      <td>P</td>\n",
       "      <td>DU</td>\n",
       "    </tr>\n",
       "    <tr>\n",
       "      <th>1</th>\n",
       "      <td>0</td>\n",
       "      <td>3</td>\n",
       "      <td>64500</td>\n",
       "      <td>0</td>\n",
       "      <td>0</td>\n",
       "      <td>0</td>\n",
       "      <td>0</td>\n",
       "      <td>165</td>\n",
       "      <td>146</td>\n",
       "      <td>87</td>\n",
       "      <td>...</td>\n",
       "      <td>US</td>\n",
       "      <td>United States</td>\n",
       "      <td>6</td>\n",
       "      <td>635</td>\n",
       "      <td>2</td>\n",
       "      <td>2019</td>\n",
       "      <td>6</td>\n",
       "      <td>1</td>\n",
       "      <td>P</td>\n",
       "      <td>DU</td>\n",
       "    </tr>\n",
       "  </tbody>\n",
       "</table>\n",
       "<p>2 rows × 38 columns</p>\n",
       "</div>"
      ],
      "text/plain": [
       "   departures_scheduled  departures_performed  payload  seats  passengers  \\\n",
       "0                     0                     1     5600      0           0   \n",
       "1                     0                     3    64500      0           0   \n",
       "\n",
       "   freight  mail  distance  ramp_to_ramp  air_time  ... dest_country  \\\n",
       "0        0     0       228            60        48  ...           US   \n",
       "1        0     0       165           146        87  ...           US   \n",
       "\n",
       "   dest_country_name aircraft_group aircraft_type aircraft_config  year  \\\n",
       "0      United States              6           681               2  2019   \n",
       "1      United States              6           635               2  2019   \n",
       "\n",
       "   month  distance_group  class  data_source  \n",
       "0      6               1      P           DU  \n",
       "1      6               1      P           DU  \n",
       "\n",
       "[2 rows x 38 columns]"
      ]
     },
     "execution_count": 3,
     "metadata": {},
     "output_type": "execute_result"
    }
   ],
   "source": [
    "# passengers dataframe\n",
    "passengers = pd.read_csv(\"passengers_2019.csv\")\n",
    "passengers.head(2)"
   ]
  },
  {
   "cell_type": "code",
   "execution_count": 4,
   "metadata": {},
   "outputs": [
    {
     "data": {
      "text/html": [
       "<div>\n",
       "<style scoped>\n",
       "    .dataframe tbody tr th:only-of-type {\n",
       "        vertical-align: middle;\n",
       "    }\n",
       "\n",
       "    .dataframe tbody tr th {\n",
       "        vertical-align: top;\n",
       "    }\n",
       "\n",
       "    .dataframe thead th {\n",
       "        text-align: right;\n",
       "    }\n",
       "</style>\n",
       "<table border=\"1\" class=\"dataframe\">\n",
       "  <thead>\n",
       "    <tr style=\"text-align: right;\">\n",
       "      <th></th>\n",
       "      <th>month</th>\n",
       "      <th>airline_id</th>\n",
       "      <th>unique_carrier</th>\n",
       "      <th>carrier</th>\n",
       "      <th>carrier_name</th>\n",
       "      <th>carrier_group_new</th>\n",
       "      <th>sdomt_gallons</th>\n",
       "      <th>satl_gallons</th>\n",
       "      <th>spac_gallons</th>\n",
       "      <th>slat_gallons</th>\n",
       "      <th>...</th>\n",
       "      <th>sdomt_cost</th>\n",
       "      <th>satl_cost</th>\n",
       "      <th>spac_cost</th>\n",
       "      <th>slat_cost</th>\n",
       "      <th>sint_cost</th>\n",
       "      <th>ts_cost</th>\n",
       "      <th>tdomt_cost</th>\n",
       "      <th>tint_cost</th>\n",
       "      <th>total_cost</th>\n",
       "      <th>year</th>\n",
       "    </tr>\n",
       "  </thead>\n",
       "  <tbody>\n",
       "    <tr>\n",
       "      <th>0</th>\n",
       "      <td>1</td>\n",
       "      <td>NaN</td>\n",
       "      <td>NaN</td>\n",
       "      <td>0JQ</td>\n",
       "      <td>NaN</td>\n",
       "      <td>1</td>\n",
       "      <td>0.0</td>\n",
       "      <td>0.0</td>\n",
       "      <td>0.0</td>\n",
       "      <td>0.0</td>\n",
       "      <td>...</td>\n",
       "      <td>0</td>\n",
       "      <td>0.0</td>\n",
       "      <td>0.0</td>\n",
       "      <td>0.0</td>\n",
       "      <td>0.0</td>\n",
       "      <td>0</td>\n",
       "      <td>5100</td>\n",
       "      <td>0.0</td>\n",
       "      <td>5100</td>\n",
       "      <td>2016</td>\n",
       "    </tr>\n",
       "    <tr>\n",
       "      <th>1</th>\n",
       "      <td>1</td>\n",
       "      <td>21352.0</td>\n",
       "      <td>0WQ</td>\n",
       "      <td>0WQ</td>\n",
       "      <td>Avjet Corporation</td>\n",
       "      <td>1</td>\n",
       "      <td>0.0</td>\n",
       "      <td>0.0</td>\n",
       "      <td>0.0</td>\n",
       "      <td>0.0</td>\n",
       "      <td>...</td>\n",
       "      <td>0</td>\n",
       "      <td>0.0</td>\n",
       "      <td>0.0</td>\n",
       "      <td>0.0</td>\n",
       "      <td>0.0</td>\n",
       "      <td>0</td>\n",
       "      <td>396216</td>\n",
       "      <td>140239.0</td>\n",
       "      <td>536455</td>\n",
       "      <td>2016</td>\n",
       "    </tr>\n",
       "  </tbody>\n",
       "</table>\n",
       "<p>2 rows × 25 columns</p>\n",
       "</div>"
      ],
      "text/plain": [
       "   month  airline_id unique_carrier carrier       carrier_name  \\\n",
       "0      1         NaN            NaN     0JQ                NaN   \n",
       "1      1     21352.0            0WQ     0WQ  Avjet Corporation   \n",
       "\n",
       "   carrier_group_new  sdomt_gallons  satl_gallons  spac_gallons  slat_gallons  \\\n",
       "0                  1            0.0           0.0           0.0           0.0   \n",
       "1                  1            0.0           0.0           0.0           0.0   \n",
       "\n",
       "   ...  sdomt_cost  satl_cost  spac_cost  slat_cost  sint_cost  ts_cost  \\\n",
       "0  ...           0        0.0        0.0        0.0        0.0        0   \n",
       "1  ...           0        0.0        0.0        0.0        0.0        0   \n",
       "\n",
       "   tdomt_cost  tint_cost  total_cost  year  \n",
       "0        5100        0.0        5100  2016  \n",
       "1      396216   140239.0      536455  2016  \n",
       "\n",
       "[2 rows x 25 columns]"
      ]
     },
     "execution_count": 4,
     "metadata": {},
     "output_type": "execute_result"
    }
   ],
   "source": [
    "# fuel consumption dataframe\n",
    "fuel = pd.read_csv(\"fuel_consumption.csv\")\n",
    "fuel.head(2)"
   ]
  },
  {
   "cell_type": "code",
   "execution_count": 5,
   "metadata": {},
   "outputs": [
    {
     "data": {
      "text/html": [
       "<div>\n",
       "<style scoped>\n",
       "    .dataframe tbody tr th:only-of-type {\n",
       "        vertical-align: middle;\n",
       "    }\n",
       "\n",
       "    .dataframe tbody tr th {\n",
       "        vertical-align: top;\n",
       "    }\n",
       "\n",
       "    .dataframe thead th {\n",
       "        text-align: right;\n",
       "    }\n",
       "</style>\n",
       "<table border=\"1\" class=\"dataframe\">\n",
       "  <thead>\n",
       "    <tr style=\"text-align: right;\">\n",
       "      <th></th>\n",
       "      <th>fl_date</th>\n",
       "      <th>mkt_unique_carrier</th>\n",
       "      <th>branded_code_share</th>\n",
       "      <th>mkt_carrier</th>\n",
       "      <th>mkt_carrier_fl_num</th>\n",
       "      <th>op_unique_carrier</th>\n",
       "      <th>tail_num</th>\n",
       "      <th>op_carrier_fl_num</th>\n",
       "      <th>origin_airport_id</th>\n",
       "      <th>origin</th>\n",
       "      <th>...</th>\n",
       "      <th>distance</th>\n",
       "      <th>carrier_delay</th>\n",
       "      <th>weather_delay</th>\n",
       "      <th>nas_delay</th>\n",
       "      <th>security_delay</th>\n",
       "      <th>late_aircraft_delay</th>\n",
       "      <th>first_dep_time</th>\n",
       "      <th>total_add_gtime</th>\n",
       "      <th>longest_add_gtime</th>\n",
       "      <th>no_name</th>\n",
       "    </tr>\n",
       "  </thead>\n",
       "  <tbody>\n",
       "    <tr>\n",
       "      <th>0</th>\n",
       "      <td>2019-01-03</td>\n",
       "      <td>AA</td>\n",
       "      <td>AA_CODESHARE</td>\n",
       "      <td>AA</td>\n",
       "      <td>3607</td>\n",
       "      <td>MQ</td>\n",
       "      <td>N820AE</td>\n",
       "      <td>3607</td>\n",
       "      <td>15074</td>\n",
       "      <td>SWO</td>\n",
       "      <td>...</td>\n",
       "      <td>225</td>\n",
       "      <td>NaN</td>\n",
       "      <td>NaN</td>\n",
       "      <td>NaN</td>\n",
       "      <td>NaN</td>\n",
       "      <td>NaN</td>\n",
       "      <td>NaN</td>\n",
       "      <td>NaN</td>\n",
       "      <td>NaN</td>\n",
       "      <td>NaN</td>\n",
       "    </tr>\n",
       "    <tr>\n",
       "      <th>1</th>\n",
       "      <td>2019-01-03</td>\n",
       "      <td>AA</td>\n",
       "      <td>AA_CODESHARE</td>\n",
       "      <td>AA</td>\n",
       "      <td>3680</td>\n",
       "      <td>MQ</td>\n",
       "      <td>N248NN</td>\n",
       "      <td>3680</td>\n",
       "      <td>14027</td>\n",
       "      <td>PBI</td>\n",
       "      <td>...</td>\n",
       "      <td>857</td>\n",
       "      <td>NaN</td>\n",
       "      <td>NaN</td>\n",
       "      <td>NaN</td>\n",
       "      <td>NaN</td>\n",
       "      <td>NaN</td>\n",
       "      <td>NaN</td>\n",
       "      <td>NaN</td>\n",
       "      <td>NaN</td>\n",
       "      <td>NaN</td>\n",
       "    </tr>\n",
       "  </tbody>\n",
       "</table>\n",
       "<p>2 rows × 42 columns</p>\n",
       "</div>"
      ],
      "text/plain": [
       "      fl_date mkt_unique_carrier branded_code_share mkt_carrier  \\\n",
       "0  2019-01-03                 AA       AA_CODESHARE          AA   \n",
       "1  2019-01-03                 AA       AA_CODESHARE          AA   \n",
       "\n",
       "   mkt_carrier_fl_num op_unique_carrier tail_num  op_carrier_fl_num  \\\n",
       "0                3607                MQ   N820AE               3607   \n",
       "1                3680                MQ   N248NN               3680   \n",
       "\n",
       "   origin_airport_id origin  ... distance  carrier_delay weather_delay  \\\n",
       "0              15074    SWO  ...      225            NaN           NaN   \n",
       "1              14027    PBI  ...      857            NaN           NaN   \n",
       "\n",
       "  nas_delay  security_delay  late_aircraft_delay  first_dep_time  \\\n",
       "0       NaN             NaN                  NaN             NaN   \n",
       "1       NaN             NaN                  NaN             NaN   \n",
       "\n",
       "   total_add_gtime  longest_add_gtime  no_name  \n",
       "0              NaN                NaN      NaN  \n",
       "1              NaN                NaN      NaN  \n",
       "\n",
       "[2 rows x 42 columns]"
      ]
     },
     "execution_count": 5,
     "metadata": {},
     "output_type": "execute_result"
    }
   ],
   "source": [
    "flights = pd.read_csv(\"flights.csv\")\n",
    "flights.head(2)"
   ]
  },
  {
   "cell_type": "code",
   "execution_count": 6,
   "metadata": {},
   "outputs": [],
   "source": [
    "flights = flights[(flights['cancelled'] != 1)]"
   ]
  },
  {
   "cell_type": "code",
   "execution_count": 7,
   "metadata": {
    "scrolled": true,
    "tags": []
   },
   "outputs": [
    {
     "data": {
      "text/plain": [
       "fl_date                 object\n",
       "mkt_unique_carrier      object\n",
       "branded_code_share      object\n",
       "mkt_carrier             object\n",
       "mkt_carrier_fl_num       int64\n",
       "op_unique_carrier       object\n",
       "tail_num                object\n",
       "op_carrier_fl_num        int64\n",
       "origin_airport_id        int64\n",
       "origin                  object\n",
       "origin_city_name        object\n",
       "dest_airport_id          int64\n",
       "dest                    object\n",
       "dest_city_name          object\n",
       "crs_dep_time             int64\n",
       "dep_time               float64\n",
       "dep_delay              float64\n",
       "taxi_out               float64\n",
       "wheels_off             float64\n",
       "wheels_on              float64\n",
       "taxi_in                float64\n",
       "crs_arr_time             int64\n",
       "arr_time               float64\n",
       "arr_delay              float64\n",
       "cancelled                int64\n",
       "cancellation_code       object\n",
       "diverted                 int64\n",
       "dup                     object\n",
       "crs_elapsed_time       float64\n",
       "actual_elapsed_time    float64\n",
       "air_time               float64\n",
       "flights                  int64\n",
       "distance                 int64\n",
       "carrier_delay          float64\n",
       "weather_delay          float64\n",
       "nas_delay              float64\n",
       "security_delay         float64\n",
       "late_aircraft_delay    float64\n",
       "first_dep_time         float64\n",
       "total_add_gtime        float64\n",
       "longest_add_gtime      float64\n",
       "no_name                float64\n",
       "dtype: object"
      ]
     },
     "execution_count": 7,
     "metadata": {},
     "output_type": "execute_result"
    }
   ],
   "source": [
    "flights.dtypes"
   ]
  },
  {
   "cell_type": "code",
   "execution_count": 8,
   "metadata": {},
   "outputs": [
    {
     "data": {
      "text/plain": [
       "(1859372, 42)"
      ]
     },
     "execution_count": 8,
     "metadata": {},
     "output_type": "execute_result"
    }
   ],
   "source": [
    "flights.shape"
   ]
  },
  {
   "cell_type": "code",
   "execution_count": 9,
   "metadata": {},
   "outputs": [
    {
     "data": {
      "text/plain": [
       "Index(['fl_date', 'mkt_unique_carrier', 'branded_code_share', 'mkt_carrier',\n",
       "       'mkt_carrier_fl_num', 'op_unique_carrier', 'tail_num',\n",
       "       'op_carrier_fl_num', 'origin_airport_id', 'origin', 'origin_city_name',\n",
       "       'dest_airport_id', 'dest', 'dest_city_name', 'crs_dep_time', 'dep_time',\n",
       "       'dep_delay', 'taxi_out', 'wheels_off', 'wheels_on', 'taxi_in',\n",
       "       'crs_arr_time', 'arr_time', 'arr_delay', 'cancelled',\n",
       "       'cancellation_code', 'diverted', 'dup', 'crs_elapsed_time',\n",
       "       'actual_elapsed_time', 'air_time', 'flights', 'distance',\n",
       "       'carrier_delay', 'weather_delay', 'nas_delay', 'security_delay',\n",
       "       'late_aircraft_delay', 'first_dep_time', 'total_add_gtime',\n",
       "       'longest_add_gtime', 'no_name'],\n",
       "      dtype='object')"
      ]
     },
     "execution_count": 9,
     "metadata": {},
     "output_type": "execute_result"
    }
   ],
   "source": [
    "flights.columns"
   ]
  },
  {
   "cell_type": "code",
   "execution_count": 10,
   "metadata": {},
   "outputs": [
    {
     "data": {
      "text/html": [
       "<div>\n",
       "<style scoped>\n",
       "    .dataframe tbody tr th:only-of-type {\n",
       "        vertical-align: middle;\n",
       "    }\n",
       "\n",
       "    .dataframe tbody tr th {\n",
       "        vertical-align: top;\n",
       "    }\n",
       "\n",
       "    .dataframe thead th {\n",
       "        text-align: right;\n",
       "    }\n",
       "</style>\n",
       "<table border=\"1\" class=\"dataframe\">\n",
       "  <thead>\n",
       "    <tr style=\"text-align: right;\">\n",
       "      <th></th>\n",
       "      <th>mkt_carrier_fl_num</th>\n",
       "      <th>op_carrier_fl_num</th>\n",
       "      <th>origin_airport_id</th>\n",
       "      <th>dest_airport_id</th>\n",
       "      <th>crs_dep_time</th>\n",
       "      <th>dep_time</th>\n",
       "      <th>dep_delay</th>\n",
       "      <th>taxi_out</th>\n",
       "      <th>wheels_off</th>\n",
       "      <th>wheels_on</th>\n",
       "      <th>...</th>\n",
       "      <th>distance</th>\n",
       "      <th>carrier_delay</th>\n",
       "      <th>weather_delay</th>\n",
       "      <th>nas_delay</th>\n",
       "      <th>security_delay</th>\n",
       "      <th>late_aircraft_delay</th>\n",
       "      <th>first_dep_time</th>\n",
       "      <th>total_add_gtime</th>\n",
       "      <th>longest_add_gtime</th>\n",
       "      <th>no_name</th>\n",
       "    </tr>\n",
       "  </thead>\n",
       "  <tbody>\n",
       "    <tr>\n",
       "      <th>count</th>\n",
       "      <td>1.859372e+06</td>\n",
       "      <td>1.859372e+06</td>\n",
       "      <td>1.859372e+06</td>\n",
       "      <td>1.859372e+06</td>\n",
       "      <td>1.859372e+06</td>\n",
       "      <td>1.859372e+06</td>\n",
       "      <td>1.859372e+06</td>\n",
       "      <td>1.859372e+06</td>\n",
       "      <td>1.859372e+06</td>\n",
       "      <td>1.858199e+06</td>\n",
       "      <td>...</td>\n",
       "      <td>1.859372e+06</td>\n",
       "      <td>366801.000000</td>\n",
       "      <td>366801.000000</td>\n",
       "      <td>366801.000000</td>\n",
       "      <td>366801.000000</td>\n",
       "      <td>366801.000000</td>\n",
       "      <td>12123.000000</td>\n",
       "      <td>12121.000000</td>\n",
       "      <td>12123.000000</td>\n",
       "      <td>0.0</td>\n",
       "    </tr>\n",
       "    <tr>\n",
       "      <th>mean</th>\n",
       "      <td>2.687195e+03</td>\n",
       "      <td>2.687181e+03</td>\n",
       "      <td>1.268605e+04</td>\n",
       "      <td>1.268609e+04</td>\n",
       "      <td>1.328086e+03</td>\n",
       "      <td>1.335629e+03</td>\n",
       "      <td>1.078186e+01</td>\n",
       "      <td>1.809142e+01</td>\n",
       "      <td>1.361719e+03</td>\n",
       "      <td>1.474520e+03</td>\n",
       "      <td>...</td>\n",
       "      <td>7.722384e+02</td>\n",
       "      <td>21.103822</td>\n",
       "      <td>3.941189</td>\n",
       "      <td>16.190790</td>\n",
       "      <td>0.101622</td>\n",
       "      <td>26.867860</td>\n",
       "      <td>1281.085622</td>\n",
       "      <td>35.099414</td>\n",
       "      <td>34.582694</td>\n",
       "      <td>NaN</td>\n",
       "    </tr>\n",
       "    <tr>\n",
       "      <th>std</th>\n",
       "      <td>1.852014e+03</td>\n",
       "      <td>1.852133e+03</td>\n",
       "      <td>1.521646e+03</td>\n",
       "      <td>1.521882e+03</td>\n",
       "      <td>4.855347e+02</td>\n",
       "      <td>4.976434e+02</td>\n",
       "      <td>5.009434e+01</td>\n",
       "      <td>1.056289e+01</td>\n",
       "      <td>4.979964e+02</td>\n",
       "      <td>5.235621e+02</td>\n",
       "      <td>...</td>\n",
       "      <td>5.816798e+02</td>\n",
       "      <td>66.906459</td>\n",
       "      <td>35.889059</td>\n",
       "      <td>37.025696</td>\n",
       "      <td>3.701326</td>\n",
       "      <td>54.461312</td>\n",
       "      <td>511.263199</td>\n",
       "      <td>28.414851</td>\n",
       "      <td>27.337801</td>\n",
       "      <td>NaN</td>\n",
       "    </tr>\n",
       "    <tr>\n",
       "      <th>min</th>\n",
       "      <td>1.000000e+00</td>\n",
       "      <td>1.000000e+00</td>\n",
       "      <td>1.013500e+04</td>\n",
       "      <td>1.013500e+04</td>\n",
       "      <td>1.000000e+00</td>\n",
       "      <td>1.000000e+00</td>\n",
       "      <td>-6.300000e+01</td>\n",
       "      <td>0.000000e+00</td>\n",
       "      <td>1.000000e+00</td>\n",
       "      <td>1.000000e+00</td>\n",
       "      <td>...</td>\n",
       "      <td>3.100000e+01</td>\n",
       "      <td>0.000000</td>\n",
       "      <td>0.000000</td>\n",
       "      <td>0.000000</td>\n",
       "      <td>0.000000</td>\n",
       "      <td>0.000000</td>\n",
       "      <td>1.000000</td>\n",
       "      <td>1.000000</td>\n",
       "      <td>0.000000</td>\n",
       "      <td>NaN</td>\n",
       "    </tr>\n",
       "    <tr>\n",
       "      <th>25%</th>\n",
       "      <td>1.088000e+03</td>\n",
       "      <td>1.088000e+03</td>\n",
       "      <td>1.129200e+04</td>\n",
       "      <td>1.129200e+04</td>\n",
       "      <td>9.190000e+02</td>\n",
       "      <td>9.220000e+02</td>\n",
       "      <td>-6.000000e+00</td>\n",
       "      <td>1.200000e+01</td>\n",
       "      <td>9.390000e+02</td>\n",
       "      <td>1.055000e+03</td>\n",
       "      <td>...</td>\n",
       "      <td>3.440000e+02</td>\n",
       "      <td>0.000000</td>\n",
       "      <td>0.000000</td>\n",
       "      <td>0.000000</td>\n",
       "      <td>0.000000</td>\n",
       "      <td>0.000000</td>\n",
       "      <td>825.000000</td>\n",
       "      <td>16.000000</td>\n",
       "      <td>16.000000</td>\n",
       "      <td>NaN</td>\n",
       "    </tr>\n",
       "    <tr>\n",
       "      <th>50%</th>\n",
       "      <td>2.259000e+03</td>\n",
       "      <td>2.259000e+03</td>\n",
       "      <td>1.288900e+04</td>\n",
       "      <td>1.288900e+04</td>\n",
       "      <td>1.320000e+03</td>\n",
       "      <td>1.331000e+03</td>\n",
       "      <td>-2.000000e+00</td>\n",
       "      <td>1.500000e+01</td>\n",
       "      <td>1.345000e+03</td>\n",
       "      <td>1.510000e+03</td>\n",
       "      <td>...</td>\n",
       "      <td>6.120000e+02</td>\n",
       "      <td>0.000000</td>\n",
       "      <td>0.000000</td>\n",
       "      <td>4.000000</td>\n",
       "      <td>0.000000</td>\n",
       "      <td>1.000000</td>\n",
       "      <td>1236.000000</td>\n",
       "      <td>28.000000</td>\n",
       "      <td>27.000000</td>\n",
       "      <td>NaN</td>\n",
       "    </tr>\n",
       "    <tr>\n",
       "      <th>75%</th>\n",
       "      <td>4.158000e+03</td>\n",
       "      <td>4.157000e+03</td>\n",
       "      <td>1.405700e+04</td>\n",
       "      <td>1.405700e+04</td>\n",
       "      <td>1.730000e+03</td>\n",
       "      <td>1.741000e+03</td>\n",
       "      <td>7.000000e+00</td>\n",
       "      <td>2.100000e+01</td>\n",
       "      <td>1.757000e+03</td>\n",
       "      <td>1.913000e+03</td>\n",
       "      <td>...</td>\n",
       "      <td>1.013000e+03</td>\n",
       "      <td>17.000000</td>\n",
       "      <td>0.000000</td>\n",
       "      <td>20.000000</td>\n",
       "      <td>0.000000</td>\n",
       "      <td>32.000000</td>\n",
       "      <td>1725.000000</td>\n",
       "      <td>44.000000</td>\n",
       "      <td>44.000000</td>\n",
       "      <td>NaN</td>\n",
       "    </tr>\n",
       "    <tr>\n",
       "      <th>max</th>\n",
       "      <td>9.401000e+03</td>\n",
       "      <td>9.401000e+03</td>\n",
       "      <td>1.621800e+04</td>\n",
       "      <td>1.621800e+04</td>\n",
       "      <td>2.359000e+03</td>\n",
       "      <td>2.400000e+03</td>\n",
       "      <td>2.941000e+03</td>\n",
       "      <td>2.270000e+02</td>\n",
       "      <td>2.400000e+03</td>\n",
       "      <td>2.400000e+03</td>\n",
       "      <td>...</td>\n",
       "      <td>4.983000e+03</td>\n",
       "      <td>2592.000000</td>\n",
       "      <td>2900.000000</td>\n",
       "      <td>1516.000000</td>\n",
       "      <td>816.000000</td>\n",
       "      <td>2206.000000</td>\n",
       "      <td>2359.000000</td>\n",
       "      <td>295.000000</td>\n",
       "      <td>243.000000</td>\n",
       "      <td>NaN</td>\n",
       "    </tr>\n",
       "  </tbody>\n",
       "</table>\n",
       "<p>8 rows × 30 columns</p>\n",
       "</div>"
      ],
      "text/plain": [
       "       mkt_carrier_fl_num  op_carrier_fl_num  origin_airport_id  \\\n",
       "count        1.859372e+06       1.859372e+06       1.859372e+06   \n",
       "mean         2.687195e+03       2.687181e+03       1.268605e+04   \n",
       "std          1.852014e+03       1.852133e+03       1.521646e+03   \n",
       "min          1.000000e+00       1.000000e+00       1.013500e+04   \n",
       "25%          1.088000e+03       1.088000e+03       1.129200e+04   \n",
       "50%          2.259000e+03       2.259000e+03       1.288900e+04   \n",
       "75%          4.158000e+03       4.157000e+03       1.405700e+04   \n",
       "max          9.401000e+03       9.401000e+03       1.621800e+04   \n",
       "\n",
       "       dest_airport_id  crs_dep_time      dep_time     dep_delay  \\\n",
       "count     1.859372e+06  1.859372e+06  1.859372e+06  1.859372e+06   \n",
       "mean      1.268609e+04  1.328086e+03  1.335629e+03  1.078186e+01   \n",
       "std       1.521882e+03  4.855347e+02  4.976434e+02  5.009434e+01   \n",
       "min       1.013500e+04  1.000000e+00  1.000000e+00 -6.300000e+01   \n",
       "25%       1.129200e+04  9.190000e+02  9.220000e+02 -6.000000e+00   \n",
       "50%       1.288900e+04  1.320000e+03  1.331000e+03 -2.000000e+00   \n",
       "75%       1.405700e+04  1.730000e+03  1.741000e+03  7.000000e+00   \n",
       "max       1.621800e+04  2.359000e+03  2.400000e+03  2.941000e+03   \n",
       "\n",
       "           taxi_out    wheels_off     wheels_on  ...      distance  \\\n",
       "count  1.859372e+06  1.859372e+06  1.858199e+06  ...  1.859372e+06   \n",
       "mean   1.809142e+01  1.361719e+03  1.474520e+03  ...  7.722384e+02   \n",
       "std    1.056289e+01  4.979964e+02  5.235621e+02  ...  5.816798e+02   \n",
       "min    0.000000e+00  1.000000e+00  1.000000e+00  ...  3.100000e+01   \n",
       "25%    1.200000e+01  9.390000e+02  1.055000e+03  ...  3.440000e+02   \n",
       "50%    1.500000e+01  1.345000e+03  1.510000e+03  ...  6.120000e+02   \n",
       "75%    2.100000e+01  1.757000e+03  1.913000e+03  ...  1.013000e+03   \n",
       "max    2.270000e+02  2.400000e+03  2.400000e+03  ...  4.983000e+03   \n",
       "\n",
       "       carrier_delay  weather_delay      nas_delay  security_delay  \\\n",
       "count  366801.000000  366801.000000  366801.000000   366801.000000   \n",
       "mean       21.103822       3.941189      16.190790        0.101622   \n",
       "std        66.906459      35.889059      37.025696        3.701326   \n",
       "min         0.000000       0.000000       0.000000        0.000000   \n",
       "25%         0.000000       0.000000       0.000000        0.000000   \n",
       "50%         0.000000       0.000000       4.000000        0.000000   \n",
       "75%        17.000000       0.000000      20.000000        0.000000   \n",
       "max      2592.000000    2900.000000    1516.000000      816.000000   \n",
       "\n",
       "       late_aircraft_delay  first_dep_time  total_add_gtime  \\\n",
       "count        366801.000000    12123.000000     12121.000000   \n",
       "mean             26.867860     1281.085622        35.099414   \n",
       "std              54.461312      511.263199        28.414851   \n",
       "min               0.000000        1.000000         1.000000   \n",
       "25%               0.000000      825.000000        16.000000   \n",
       "50%               1.000000     1236.000000        28.000000   \n",
       "75%              32.000000     1725.000000        44.000000   \n",
       "max            2206.000000     2359.000000       295.000000   \n",
       "\n",
       "       longest_add_gtime  no_name  \n",
       "count       12123.000000      0.0  \n",
       "mean           34.582694      NaN  \n",
       "std            27.337801      NaN  \n",
       "min             0.000000      NaN  \n",
       "25%            16.000000      NaN  \n",
       "50%            27.000000      NaN  \n",
       "75%            44.000000      NaN  \n",
       "max           243.000000      NaN  \n",
       "\n",
       "[8 rows x 30 columns]"
      ]
     },
     "execution_count": 10,
     "metadata": {},
     "output_type": "execute_result"
    }
   ],
   "source": [
    "flights.describe()"
   ]
  },
  {
   "cell_type": "code",
   "execution_count": 11,
   "metadata": {
    "scrolled": true,
    "tags": []
   },
   "outputs": [
    {
     "data": {
      "text/plain": [
       "fl_date                      0\n",
       "mkt_unique_carrier           0\n",
       "branded_code_share           0\n",
       "mkt_carrier                  0\n",
       "mkt_carrier_fl_num           0\n",
       "op_unique_carrier            0\n",
       "tail_num                     0\n",
       "op_carrier_fl_num            0\n",
       "origin_airport_id            0\n",
       "origin                       0\n",
       "origin_city_name             0\n",
       "dest_airport_id              0\n",
       "dest                         0\n",
       "dest_city_name               0\n",
       "crs_dep_time                 0\n",
       "dep_time                     0\n",
       "dep_delay                    0\n",
       "taxi_out                     0\n",
       "wheels_off                   0\n",
       "wheels_on                 1173\n",
       "taxi_in                   1173\n",
       "crs_arr_time                 0\n",
       "arr_time                  1173\n",
       "arr_delay                 4367\n",
       "cancelled                    0\n",
       "cancellation_code      1859372\n",
       "diverted                     0\n",
       "dup                          0\n",
       "crs_elapsed_time             0\n",
       "actual_elapsed_time       4367\n",
       "air_time                  4367\n",
       "flights                      0\n",
       "distance                     0\n",
       "carrier_delay          1492571\n",
       "weather_delay          1492571\n",
       "nas_delay              1492571\n",
       "security_delay         1492571\n",
       "late_aircraft_delay    1492571\n",
       "first_dep_time         1847249\n",
       "total_add_gtime        1847251\n",
       "longest_add_gtime      1847249\n",
       "no_name                1859372\n",
       "dtype: int64"
      ]
     },
     "execution_count": 11,
     "metadata": {},
     "output_type": "execute_result"
    }
   ],
   "source": [
    "flights.isnull().sum()"
   ]
  },
  {
   "cell_type": "code",
   "execution_count": 12,
   "metadata": {},
   "outputs": [],
   "source": [
    "# columns to drop \n",
    "cols_to_drop = ['no_name','longest_add_gtime' ,'mkt_carrier','total_add_gtime', 'first_dep_time','cancellation_code',\n",
    "                'cancelled', 'diverted','dup', 'op_carrier_fl_num','mkt_carrier_fl_num', 'carrier_delay','weather_delay','nas_delay',\n",
    "                'security_delay','late_aircraft_delay', 'branded_code_share', 'origin_airport_id', 'dest_airport_id']\n",
    "\n",
    "flights.drop(cols_to_drop, axis = 1, inplace = True)"
   ]
  },
  {
   "cell_type": "code",
   "execution_count": 13,
   "metadata": {
    "scrolled": true,
    "tags": []
   },
   "outputs": [
    {
     "data": {
      "text/plain": [
       "fl_date                   0\n",
       "mkt_unique_carrier        0\n",
       "op_unique_carrier         0\n",
       "tail_num                  0\n",
       "origin                    0\n",
       "origin_city_name          0\n",
       "dest                      0\n",
       "dest_city_name            0\n",
       "crs_dep_time              0\n",
       "dep_time                  0\n",
       "dep_delay                 0\n",
       "taxi_out                  0\n",
       "wheels_off                0\n",
       "wheels_on              1173\n",
       "taxi_in                1173\n",
       "crs_arr_time              0\n",
       "arr_time               1173\n",
       "arr_delay              4367\n",
       "crs_elapsed_time          0\n",
       "actual_elapsed_time    4367\n",
       "air_time               4367\n",
       "flights                   0\n",
       "distance                  0\n",
       "dtype: int64"
      ]
     },
     "execution_count": 13,
     "metadata": {},
     "output_type": "execute_result"
    }
   ],
   "source": [
    "flights.isnull().sum()"
   ]
  },
  {
   "cell_type": "code",
   "execution_count": 14,
   "metadata": {},
   "outputs": [],
   "source": [
    "#Drop  missing data \n",
    "flights.dropna(inplace = True)"
   ]
  },
  {
   "cell_type": "code",
   "execution_count": 15,
   "metadata": {
    "scrolled": true,
    "tags": []
   },
   "outputs": [
    {
     "data": {
      "text/plain": [
       "fl_date                0\n",
       "mkt_unique_carrier     0\n",
       "op_unique_carrier      0\n",
       "tail_num               0\n",
       "origin                 0\n",
       "origin_city_name       0\n",
       "dest                   0\n",
       "dest_city_name         0\n",
       "crs_dep_time           0\n",
       "dep_time               0\n",
       "dep_delay              0\n",
       "taxi_out               0\n",
       "wheels_off             0\n",
       "wheels_on              0\n",
       "taxi_in                0\n",
       "crs_arr_time           0\n",
       "arr_time               0\n",
       "arr_delay              0\n",
       "crs_elapsed_time       0\n",
       "actual_elapsed_time    0\n",
       "air_time               0\n",
       "flights                0\n",
       "distance               0\n",
       "dtype: int64"
      ]
     },
     "execution_count": 15,
     "metadata": {},
     "output_type": "execute_result"
    }
   ],
   "source": [
    "flights.isnull().sum()"
   ]
  },
  {
   "cell_type": "markdown",
   "metadata": {
    "tags": []
   },
   "source": [
    "#### **Task 1**: Test the hypothesis that the delay is from Normal distribution. and that **mean** of the delay is 0. Be careful about the outliers."
   ]
  },
  {
   "cell_type": "code",
   "execution_count": null,
   "metadata": {
    "jupyter": {
     "source_hidden": true
    },
    "tags": []
   },
   "outputs": [],
   "source": []
  },
  {
   "cell_type": "markdown",
   "metadata": {
    "tags": []
   },
   "source": [
    "#### **Task 2**: Is average/median monthly delay different during the year? If yes, which are months with the biggest delays and what could be the reason?"
   ]
  },
  {
   "cell_type": "code",
   "execution_count": null,
   "metadata": {
    "jupyter": {
     "source_hidden": true
    },
    "tags": []
   },
   "outputs": [],
   "source": []
  },
  {
   "cell_type": "markdown",
   "metadata": {
    "tags": []
   },
   "source": [
    "#### **Task 3**: Does the weather affect the delay? \n",
    "Use the API to pull the weather information for flights. There is no need to get weather for ALL flights. We can choose the right representative sample. Let's focus on four weather types:\n",
    "- sunny\n",
    "- cloudy\n",
    "- rainy\n",
    "- snow.\n",
    "Test the hypothesis that these 4 delays are from the same distribution. If they are not, which ones are significantly different?"
   ]
  },
  {
   "cell_type": "code",
   "execution_count": null,
   "metadata": {
    "jupyter": {
     "source_hidden": true
    },
    "tags": []
   },
   "outputs": [],
   "source": []
  },
  {
   "cell_type": "markdown",
   "metadata": {},
   "source": [
    "#### **Task 4**: How taxi times changing during the day? Does higher traffic lead to bigger taxi times?"
   ]
  },
  {
   "cell_type": "code",
   "execution_count": 16,
   "metadata": {},
   "outputs": [
    {
     "data": {
      "text/html": [
       "<div>\n",
       "<style scoped>\n",
       "    .dataframe tbody tr th:only-of-type {\n",
       "        vertical-align: middle;\n",
       "    }\n",
       "\n",
       "    .dataframe tbody tr th {\n",
       "        vertical-align: top;\n",
       "    }\n",
       "\n",
       "    .dataframe thead th {\n",
       "        text-align: right;\n",
       "    }\n",
       "</style>\n",
       "<table border=\"1\" class=\"dataframe\">\n",
       "  <thead>\n",
       "    <tr style=\"text-align: right;\">\n",
       "      <th></th>\n",
       "      <th>fl_date</th>\n",
       "      <th>mkt_unique_carrier</th>\n",
       "      <th>op_unique_carrier</th>\n",
       "      <th>tail_num</th>\n",
       "      <th>origin</th>\n",
       "      <th>origin_city_name</th>\n",
       "      <th>dest</th>\n",
       "      <th>dest_city_name</th>\n",
       "      <th>crs_dep_time</th>\n",
       "      <th>dep_time</th>\n",
       "      <th>...</th>\n",
       "      <th>wheels_on</th>\n",
       "      <th>taxi_in</th>\n",
       "      <th>crs_arr_time</th>\n",
       "      <th>arr_time</th>\n",
       "      <th>arr_delay</th>\n",
       "      <th>crs_elapsed_time</th>\n",
       "      <th>actual_elapsed_time</th>\n",
       "      <th>air_time</th>\n",
       "      <th>flights</th>\n",
       "      <th>distance</th>\n",
       "    </tr>\n",
       "  </thead>\n",
       "  <tbody>\n",
       "    <tr>\n",
       "      <th>2</th>\n",
       "      <td>2019-01-01</td>\n",
       "      <td>AA</td>\n",
       "      <td>OH</td>\n",
       "      <td>N575NN</td>\n",
       "      <td>MYR</td>\n",
       "      <td>Myrtle Beach, SC</td>\n",
       "      <td>CLT</td>\n",
       "      <td>Charlotte, NC</td>\n",
       "      <td>2157</td>\n",
       "      <td>2158.0</td>\n",
       "      <td>...</td>\n",
       "      <td>2248.0</td>\n",
       "      <td>20.0</td>\n",
       "      <td>2311</td>\n",
       "      <td>2308.0</td>\n",
       "      <td>-3.0</td>\n",
       "      <td>74.0</td>\n",
       "      <td>70.0</td>\n",
       "      <td>40.0</td>\n",
       "      <td>1</td>\n",
       "      <td>157</td>\n",
       "    </tr>\n",
       "    <tr>\n",
       "      <th>3</th>\n",
       "      <td>2019-01-01</td>\n",
       "      <td>AA</td>\n",
       "      <td>OH</td>\n",
       "      <td>N254PS</td>\n",
       "      <td>BDL</td>\n",
       "      <td>Hartford, CT</td>\n",
       "      <td>DCA</td>\n",
       "      <td>Washington, DC</td>\n",
       "      <td>1151</td>\n",
       "      <td>1212.0</td>\n",
       "      <td>...</td>\n",
       "      <td>1328.0</td>\n",
       "      <td>3.0</td>\n",
       "      <td>1325</td>\n",
       "      <td>1331.0</td>\n",
       "      <td>6.0</td>\n",
       "      <td>94.0</td>\n",
       "      <td>79.0</td>\n",
       "      <td>69.0</td>\n",
       "      <td>1</td>\n",
       "      <td>313</td>\n",
       "    </tr>\n",
       "  </tbody>\n",
       "</table>\n",
       "<p>2 rows × 23 columns</p>\n",
       "</div>"
      ],
      "text/plain": [
       "      fl_date mkt_unique_carrier op_unique_carrier tail_num origin  \\\n",
       "2  2019-01-01                 AA                OH   N575NN    MYR   \n",
       "3  2019-01-01                 AA                OH   N254PS    BDL   \n",
       "\n",
       "   origin_city_name dest  dest_city_name  crs_dep_time  dep_time  ...  \\\n",
       "2  Myrtle Beach, SC  CLT   Charlotte, NC          2157    2158.0  ...   \n",
       "3      Hartford, CT  DCA  Washington, DC          1151    1212.0  ...   \n",
       "\n",
       "   wheels_on  taxi_in  crs_arr_time  arr_time  arr_delay  crs_elapsed_time  \\\n",
       "2     2248.0     20.0          2311    2308.0       -3.0              74.0   \n",
       "3     1328.0      3.0          1325    1331.0        6.0              94.0   \n",
       "\n",
       "   actual_elapsed_time  air_time  flights  distance  \n",
       "2                 70.0      40.0        1       157  \n",
       "3                 79.0      69.0        1       313  \n",
       "\n",
       "[2 rows x 23 columns]"
      ]
     },
     "execution_count": 16,
     "metadata": {},
     "output_type": "execute_result"
    }
   ],
   "source": [
    "flights.head(2)"
   ]
  },
  {
   "cell_type": "code",
   "execution_count": 17,
   "metadata": {},
   "outputs": [
    {
     "data": {
      "text/plain": [
       "(1855005, 23)"
      ]
     },
     "execution_count": 17,
     "metadata": {},
     "output_type": "execute_result"
    }
   ],
   "source": [
    "flights.shape"
   ]
  },
  {
   "cell_type": "code",
   "execution_count": 18,
   "metadata": {
    "tags": []
   },
   "outputs": [],
   "source": [
    "# create column for dep_time in hour\n",
    "flights['deptime_hrs'] = flights['dep_time'].apply(lambda x: 0 if x < 100 else (\n",
    "                                                1 if x < 200 else(\n",
    "                                                2 if x < 300 else(\n",
    "                                                3 if x < 400 else(\n",
    "                                                4 if x < 500 else(\n",
    "                                                5 if x < 600 else(\n",
    "                                                6 if x < 700 else(\n",
    "                                                7 if x < 800 else(\n",
    "                                                8 if x < 900 else(\n",
    "                                                9 if x < 1000 else(\n",
    "                                                10 if x < 1100 else(\n",
    "                                                11 if x < 1200 else(\n",
    "                                                12 if x < 1300 else(\n",
    "                                                13 if x < 1400 else(\n",
    "                                                14 if x < 1500 else(\n",
    "                                                15 if x < 1600 else(\n",
    "                                                16 if x < 1700 else(\n",
    "                                                17 if x < 1800 else(\n",
    "                                                18 if x < 1900 else(\n",
    "                                                19 if x < 2000 else(\n",
    "                                                20 if x < 2100 else(\n",
    "                                                21 if x < 2200 else(\n",
    "                                                22 if x < 2300 else(\n",
    "                                                23 if x <= 2400 else 24 \n",
    "                                                ))))))))))))))))))))))))"
   ]
  },
  {
   "cell_type": "code",
   "execution_count": 19,
   "metadata": {
    "tags": []
   },
   "outputs": [
    {
     "data": {
      "image/png": "[encoded data removed]",
      "text/plain": [
       "<Figure size 864x576 with 1 Axes>"
      ]
     },
     "metadata": {
      "needs_background": "light"
     },
     "output_type": "display_data"
    }
   ],
   "source": [
    "# Plot showing relationship between the taxi out time and actual departure time \n",
    "data = flights[['taxi_out', 'deptime_hrs']]\n",
    "\n",
    "# set figure size\n",
    "plt.rcParams[\"figure.figsize\"] = (12,8)\n",
    "\n",
    "plt.scatter(data=data, y = 'taxi_out', x= 'deptime_hrs')\n",
    "plt.ylabel(\"Taxi in time in minutes\")\n",
    "plt.xlabel(\"Departure time in hrs\")\n",
    "plt.title(\"Taxi time changing during the day\");"
   ]
  },
  {
   "cell_type": "code",
   "execution_count": 20,
   "metadata": {
    "tags": []
   },
   "outputs": [
    {
     "data": {
      "image/png": "[encoded data removed]",
      "text/plain": [
       "<Figure size 864x576 with 1 Axes>"
      ]
     },
     "metadata": {
      "needs_background": "light"
     },
     "output_type": "display_data"
    }
   ],
   "source": [
    "# Plot showing relationship between the taxi in time and actual arrival time \n",
    "data = flights[['taxi_in','arr_time' ]]\n",
    "\n",
    "# set figure size\n",
    "plt.rcParams[\"figure.figsize\"] = (12,8)\n",
    "\n",
    "plt.scatter(data=data, y = 'taxi_in', x= 'arr_time')\n",
    "plt.ylabel(\"Taxi in time in minutes\")\n",
    "plt.xlabel(\"Arrival time in hrs\")\n",
    "plt.title(\"Taxi tim*e changing during the day\");"
   ]
  },
  {
   "cell_type": "markdown",
   "metadata": {},
   "source": [
    "#### **Task 5**: What is the average percentage of delays that is already created before departure? (aka are arrival delays caused by departure delays?) Are airlines able to lower the delay during the flights?"
   ]
  },
  {
   "cell_type": "code",
   "execution_count": 21,
   "metadata": {},
   "outputs": [
    {
     "data": {
      "text/plain": [
       "(662440, 24)"
      ]
     },
     "execution_count": 21,
     "metadata": {},
     "output_type": "execute_result"
    }
   ],
   "source": [
    "#Filter for total arrival delay\n",
    "totalArrDelay = flights[flights['arr_delay'] > 0]\n",
    "totalArrDelay.shape"
   ]
  },
  {
   "cell_type": "code",
   "execution_count": 22,
   "metadata": {},
   "outputs": [
    {
     "data": {
      "text/plain": [
       "(465022, 24)"
      ]
     },
     "execution_count": 22,
     "metadata": {},
     "output_type": "execute_result"
    }
   ],
   "source": [
    "# Filter for arrival delay already created before departure\n",
    "arrDepDelay = totalArrDelay[(totalArrDelay['dep_delay']>0)]\n",
    "arrDepDelay.shape"
   ]
  },
  {
   "cell_type": "code",
   "execution_count": 23,
   "metadata": {},
   "outputs": [
    {
     "name": "stdout",
     "output_type": "stream",
     "text": [
      "Percentage of delays already created before departure is:  70.19835758710224 %\n"
     ]
    }
   ],
   "source": [
    "# average percentage of delays already created before departure\n",
    "print(\"Percentage of delays already created before departure is: \", (arrDepDelay.shape[0]/ totalArrDelay.shape[0])* 100,\"%\")"
   ]
  },
  {
   "cell_type": "code",
   "execution_count": 24,
   "metadata": {},
   "outputs": [
    {
     "data": {
      "text/plain": [
       "(635452, 24)"
      ]
     },
     "execution_count": 24,
     "metadata": {},
     "output_type": "execute_result"
    }
   ],
   "source": [
    "# Are airlines able to lower the delay durig the flights\n",
    "totalDepDelay = flights[(flights['dep_delay']>0)]\n",
    "totalDepDelay.shape                 "
   ]
  },
  {
   "cell_type": "code",
   "execution_count": 25,
   "metadata": {},
   "outputs": [
    {
     "data": {
      "text/plain": [
       "(170430, 24)"
      ]
     },
     "execution_count": 25,
     "metadata": {},
     "output_type": "execute_result"
    }
   ],
   "source": [
    "arrDepDelay_lowered= totalDepDelay[(totalDepDelay['arr_delay'] <= 0)]\n",
    "arrDepDelay_lowered.shape"
   ]
  },
  {
   "cell_type": "code",
   "execution_count": 26,
   "metadata": {},
   "outputs": [
    {
     "name": "stdout",
     "output_type": "stream",
     "text": [
      "Percentage of delays airlines are able to lower during the flight is:  26.82027910841417 %\n"
     ]
    }
   ],
   "source": [
    "# average percentage of delays lowered during the flight\n",
    "print(\"Percentage of delays airlines are able to lower during the flight is: \", (arrDepDelay_lowered.shape[0]/ totalDepDelay.shape[0])* 100,\"%\")"
   ]
  },
  {
   "cell_type": "markdown",
   "metadata": {},
   "source": [
    "#### **Task 6**: How many states cover 50% of US air traffic? "
   ]
  },
  {
   "cell_type": "code",
   "execution_count": 27,
   "metadata": {},
   "outputs": [],
   "source": [
    "# Filter to get origin city names\n",
    "flights_traffic= flights.filter(['origin_city_name', 'dest_city_name', 'fl_date'])"
   ]
  },
  {
   "cell_type": "code",
   "execution_count": 28,
   "metadata": {},
   "outputs": [],
   "source": [
    "# Getting state name from flights_traffic\n",
    "flights_traffic['origin_state'] = flights_traffic['origin_city_name'].apply(lambda x: x.split(', ')[1])\n",
    "flights_traffic['dest_state'] =flights_traffic['dest_city_name'].apply(lambda x: x.split(', ')[1])"
   ]
  },
  {
   "cell_type": "code",
   "execution_count": 29,
   "metadata": {},
   "outputs": [
    {
     "data": {
      "text/plain": [
       "origin_state\n",
       "CA    201761\n",
       "TX    185962\n",
       "FL    151800\n",
       "IL    108973\n",
       "GA     98926\n",
       "NY     96711\n",
       "NC     87141\n",
       "CO     72624\n",
       "DC     54679\n",
       "PA     53436\n",
       "Name: fl_date, dtype: int64"
      ]
     },
     "execution_count": 29,
     "metadata": {},
     "output_type": "execute_result"
    }
   ],
   "source": [
    "# Group number of flights by origin state  \n",
    "origin_traffic = flights_traffic.groupby('origin_state')['fl_date'].count().sort_values(ascending=False).head(10)\n",
    "origin_traffic"
   ]
  },
  {
   "cell_type": "code",
   "execution_count": 138,
   "metadata": {},
   "outputs": [
    {
     "data": {
      "image/png": "[encoded data removed]",
      "text/plain": [
       "<Figure size 864x576 with 1 Axes>"
      ]
     },
     "metadata": {
      "needs_background": "light"
     },
     "output_type": "display_data"
    }
   ],
   "source": [
    "# Barplot for traffic from Origin \n",
    "sns.barplot(x = origin_traffic.index ,y = origin_traffic.values, palette='mako')\n",
    "plt.ylabel(\"Number of Flights\")\n",
    "plt.xlabel(\"States\")\n",
    "plt.title(\"Air Traffic by Origin State\")\n",
    "\n",
    "plt.show();"
   ]
  },
  {
   "cell_type": "markdown",
   "metadata": {},
   "source": [
    "#### **Task 7**: Test the hypothesis whether planes fly faster when there is the departure delay? "
   ]
  },
  {
   "cell_type": "code",
   "execution_count": 31,
   "metadata": {},
   "outputs": [],
   "source": [
    "dd_test= flights.filter(['dep_delay', 'distance', 'air_time'])"
   ]
  },
  {
   "cell_type": "code",
   "execution_count": 32,
   "metadata": {},
   "outputs": [
    {
     "name": "stdout",
     "output_type": "stream",
     "text": [
      "Average Speed of Delayed Flights to Destination: 403.2431958360581\n",
      "Average Speed of Non-Delayed Flights to Destintion: 392.2883980334349\n",
      "Percentage increase in speed of Delayed Flights against Non_Delayed flights to Destination: 2.7166726967110364\n"
     ]
    }
   ],
   "source": [
    "dd_test['speed'] = dd_test['distance']/(dd_test['air_time']/60)\n",
    "delayed_flights = dd_test[dd_test['dep_delay'] > 0]\n",
    "nondelayed_flights = dd_test[dd_test['dep_delay'] <= 0]\n",
    "\n",
    "avg_delay = delayed_flights['speed'].mean()\n",
    "avg_nondelay = nondelayed_flights['speed'].mean()\n",
    "\n",
    "print('Average Speed of Delayed Flights to Destination:', avg_delay)\n",
    "print('Average Speed of Non-Delayed Flights to Destintion:', avg_nondelay)\n",
    "print('Percentage increase in speed of Delayed Flights against Non_Delayed flights to Destination:', ((avg_delay-avg_nondelay)/avg_delay)*100)"
   ]
  },
  {
   "cell_type": "code",
   "execution_count": 33,
   "metadata": {},
   "outputs": [
    {
     "data": {
      "text/plain": [
       "Text(0, 0.5, 'Average Speed')"
      ]
     },
     "execution_count": 33,
     "metadata": {},
     "output_type": "execute_result"
    },
    {
     "data": {
      "image/png": "[encoded data removed]",
      "text/plain": [
       "<Figure size 864x576 with 1 Axes>"
      ]
     },
     "metadata": {
      "needs_background": "light"
     },
     "output_type": "display_data"
    }
   ],
   "source": [
    "plt.bar(['No Delay', 'Delay'],[avg_nondelay,avg_delay])\n",
    "plt.title('Avg Speed: Non-Delay vs Delayed')\n",
    "plt.xlabel('Departure Delay')\n",
    "plt.ylabel('Average Speed')"
   ]
  },
  {
   "cell_type": "markdown",
   "metadata": {},
   "source": [
    "#### **Task 8**: When (which hour) do most 'LONG', 'SHORT', 'MEDIUM' haul flights take off?"
   ]
  },
  {
   "cell_type": "code",
   "execution_count": 34,
   "metadata": {
    "jupyter": {
     "source_hidden": true
    },
    "tags": []
   },
   "outputs": [],
   "source": [
    "# Create new column withh haul flights from air time \n",
    "\n",
    "def haul(df):\n",
    "    '''Add a column to determine flight haul (short, medium, long) based on air_time'''\n",
    "    length=[]\n",
    "    for i in df.air_time:\n",
    "        if i <= (180): # up to 3 hours\n",
    "            length.append('short')\n",
    "        elif  (i <= (360)): # 3-6 hours\n",
    "            length.append('medium')\n",
    "        elif i > (360):\n",
    "            length.append('long') # 6+ hours\n",
    "    flights['haul_length'] = length\n",
    "\n",
    "haul(flights)"
   ]
  },
  {
   "cell_type": "code",
   "execution_count": 35,
   "metadata": {},
   "outputs": [
    {
     "data": {
      "text/html": [
       "<div>\n",
       "<style scoped>\n",
       "    .dataframe tbody tr th:only-of-type {\n",
       "        vertical-align: middle;\n",
       "    }\n",
       "\n",
       "    .dataframe tbody tr th {\n",
       "        vertical-align: top;\n",
       "    }\n",
       "\n",
       "    .dataframe thead th {\n",
       "        text-align: right;\n",
       "    }\n",
       "</style>\n",
       "<table border=\"1\" class=\"dataframe\">\n",
       "  <thead>\n",
       "    <tr style=\"text-align: right;\">\n",
       "      <th></th>\n",
       "      <th>fl_date</th>\n",
       "      <th>mkt_unique_carrier</th>\n",
       "      <th>op_unique_carrier</th>\n",
       "      <th>tail_num</th>\n",
       "      <th>origin</th>\n",
       "      <th>origin_city_name</th>\n",
       "      <th>dest</th>\n",
       "      <th>dest_city_name</th>\n",
       "      <th>crs_dep_time</th>\n",
       "      <th>dep_time</th>\n",
       "      <th>...</th>\n",
       "      <th>crs_arr_time</th>\n",
       "      <th>arr_time</th>\n",
       "      <th>arr_delay</th>\n",
       "      <th>crs_elapsed_time</th>\n",
       "      <th>actual_elapsed_time</th>\n",
       "      <th>air_time</th>\n",
       "      <th>flights</th>\n",
       "      <th>distance</th>\n",
       "      <th>deptime_hrs</th>\n",
       "      <th>haul_length</th>\n",
       "    </tr>\n",
       "  </thead>\n",
       "  <tbody>\n",
       "    <tr>\n",
       "      <th>2</th>\n",
       "      <td>2019-01-01</td>\n",
       "      <td>AA</td>\n",
       "      <td>OH</td>\n",
       "      <td>N575NN</td>\n",
       "      <td>MYR</td>\n",
       "      <td>Myrtle Beach, SC</td>\n",
       "      <td>CLT</td>\n",
       "      <td>Charlotte, NC</td>\n",
       "      <td>2157</td>\n",
       "      <td>2158.0</td>\n",
       "      <td>...</td>\n",
       "      <td>2311</td>\n",
       "      <td>2308.0</td>\n",
       "      <td>-3.0</td>\n",
       "      <td>74.0</td>\n",
       "      <td>70.0</td>\n",
       "      <td>40.0</td>\n",
       "      <td>1</td>\n",
       "      <td>157</td>\n",
       "      <td>21</td>\n",
       "      <td>short</td>\n",
       "    </tr>\n",
       "    <tr>\n",
       "      <th>3</th>\n",
       "      <td>2019-01-01</td>\n",
       "      <td>AA</td>\n",
       "      <td>OH</td>\n",
       "      <td>N254PS</td>\n",
       "      <td>BDL</td>\n",
       "      <td>Hartford, CT</td>\n",
       "      <td>DCA</td>\n",
       "      <td>Washington, DC</td>\n",
       "      <td>1151</td>\n",
       "      <td>1212.0</td>\n",
       "      <td>...</td>\n",
       "      <td>1325</td>\n",
       "      <td>1331.0</td>\n",
       "      <td>6.0</td>\n",
       "      <td>94.0</td>\n",
       "      <td>79.0</td>\n",
       "      <td>69.0</td>\n",
       "      <td>1</td>\n",
       "      <td>313</td>\n",
       "      <td>12</td>\n",
       "      <td>short</td>\n",
       "    </tr>\n",
       "  </tbody>\n",
       "</table>\n",
       "<p>2 rows × 25 columns</p>\n",
       "</div>"
      ],
      "text/plain": [
       "      fl_date mkt_unique_carrier op_unique_carrier tail_num origin  \\\n",
       "2  2019-01-01                 AA                OH   N575NN    MYR   \n",
       "3  2019-01-01                 AA                OH   N254PS    BDL   \n",
       "\n",
       "   origin_city_name dest  dest_city_name  crs_dep_time  dep_time  ...  \\\n",
       "2  Myrtle Beach, SC  CLT   Charlotte, NC          2157    2158.0  ...   \n",
       "3      Hartford, CT  DCA  Washington, DC          1151    1212.0  ...   \n",
       "\n",
       "   crs_arr_time  arr_time  arr_delay  crs_elapsed_time  actual_elapsed_time  \\\n",
       "2          2311    2308.0       -3.0              74.0                 70.0   \n",
       "3          1325    1331.0        6.0              94.0                 79.0   \n",
       "\n",
       "   air_time  flights  distance  deptime_hrs  haul_length  \n",
       "2      40.0        1       157           21        short  \n",
       "3      69.0        1       313           12        short  \n",
       "\n",
       "[2 rows x 25 columns]"
      ]
     },
     "execution_count": 35,
     "metadata": {},
     "output_type": "execute_result"
    }
   ],
   "source": [
    "flights.head(2)"
   ]
  },
  {
   "cell_type": "code",
   "execution_count": 36,
   "metadata": {},
   "outputs": [
    {
     "data": {
      "image/png": "[encoded data removed]",
      "text/plain": [
       "<Figure size 720x720 with 1 Axes>"
      ]
     },
     "metadata": {
      "needs_background": "light"
     },
     "output_type": "display_data"
    }
   ],
   "source": [
    "plt.figure(figsize=(10, 10))\n",
    "sns.countplot(data=flights, x='deptime_hrs', hue='haul_length')\n",
    "\n",
    "plt.title(\"Take of time of different haul_length of flight\", size = 14)\n",
    "plt.xlabel(\"Departure Time (hr)\", size = 14)\n",
    "plt.ylabel(\"Count\", size = 14);"
   ]
  },
  {
   "cell_type": "markdown",
   "metadata": {},
   "source": [
    "#### **Task 9**: Find the top 10 the bussiest airports. Does the biggest number of flights mean that the biggest number of passengers went through the particular airport? How much traffic do these 10 airports cover?"
   ]
  },
  {
   "cell_type": "code",
   "execution_count": 37,
   "metadata": {
    "collapsed": true,
    "jupyter": {
     "outputs_hidden": true
    },
    "tags": []
   },
   "outputs": [
    {
     "data": {
      "text/plain": [
       "origin\n",
       "ATL    92692\n",
       "ORD    86395\n",
       "DFW    67390\n",
       "DEN    62246\n",
       "CLT    60342\n",
       "LAX    58947\n",
       "PHX    44364\n",
       "IAH    43389\n",
       "SEA    42499\n",
       "DTW    40347\n",
       "Name: flights, dtype: int64"
      ]
     },
     "execution_count": 37,
     "metadata": {},
     "output_type": "execute_result"
    }
   ],
   "source": [
    "origin_airport = flights[['origin', 'flights']].groupby('origin')['flights'].count().sort_values(ascending=False).head(10)\n",
    "origin_airport"
   ]
  },
  {
   "cell_type": "code",
   "execution_count": 38,
   "metadata": {
    "collapsed": true,
    "jupyter": {
     "outputs_hidden": true
    },
    "tags": []
   },
   "outputs": [
    {
     "data": {
      "text/plain": [
       "origin\n",
       "ATL    53862700\n",
       "LAX    43362936\n",
       "ORD    41009603\n",
       "DFW    35873581\n",
       "DEN    33891355\n",
       "         ...   \n",
       "HLI           0\n",
       "OSC           0\n",
       "HLM           0\n",
       "SGN           0\n",
       "II3           0\n",
       "Name: passengers, Length: 1852, dtype: int64"
      ]
     },
     "execution_count": 38,
     "metadata": {},
     "output_type": "execute_result"
    }
   ],
   "source": [
    "passengers.groupby('origin')['passengers'].sum().sort_values(ascending=False)\n"
   ]
  },
  {
   "cell_type": "code",
   "execution_count": 39,
   "metadata": {},
   "outputs": [],
   "source": [
    "num_passengers = passengers.groupby('origin')['passengers'].sum().reset_index().rename({'passengers': 'total_passengers'}, axis=1)\n",
    "num_passengers = num_passengers.sort_values(by='total_passengers', ascending=False).head(10)"
   ]
  },
  {
   "cell_type": "code",
   "execution_count": 40,
   "metadata": {
    "jupyter": {
     "source_hidden": true
    },
    "tags": []
   },
   "outputs": [
    {
     "data": {
      "image/png": "[encoded data removed]",
      "text/plain": [
       "<Figure size 1080x432 with 2 Axes>"
      ]
     },
     "metadata": {
      "needs_background": "light"
     },
     "output_type": "display_data"
    }
   ],
   "source": [
    "import matplotlib.ticker as ticker\n",
    "@ticker.FuncFormatter\n",
    "def million_formatter(x, pos):\n",
    "    return \"%.1f M\" % (x/1E6)\n",
    "\n",
    "fig, axes = plt.subplots(1, 2, figsize=(15,6))\n",
    "ax1 = sns.barplot(x=origin_airport.index, y=origin_airport.values,ax=axes[0])\n",
    "ax1.set_ylabel('total number of flights' , fontsize = 10)\n",
    "ax1.set_xlabel('origin airport' , fontsize = 10)\n",
    "plt.xticks(rotation=45)\n",
    "\n",
    "ax2 = sns.barplot(x='origin', y='total_passengers', data=num_passengers, ax=axes[1], palette=\"tab10\")\n",
    "ax2.yaxis.set_major_formatter(million_formatter)\n",
    "ax2.tick_params(axis='x', rotation=45)\n",
    "ax2.set_xlabel('origin airport' , fontsize = 10)\n",
    "plt.subplots_adjust(hspace=0.4, wspace=0.4)"
   ]
  },
  {
   "cell_type": "markdown",
   "metadata": {},
   "source": [
    "#### **Task 10**: Do bigger delays lead to bigger fuel comsumption per passenger? \n",
    "We need to do four things to answer this as accurate as possible:\n",
    "- Find out average monthly delay per air carrier (monthly delay is sum of all delays in 1 month)\n",
    "- Find out distance covered monthly by different air carriers\n",
    "- Find out number of passengers that were carried by different air carriers\n",
    "- Find out total fuel comsumption per air carrier.\n",
    "\n",
    "Use this information to get the average fuel comsumption per passenger per km. Is this higher for the airlines with bigger average delays?"
   ]
  },
  {
   "cell_type": "code",
   "execution_count": 118,
   "metadata": {},
   "outputs": [
    {
     "data": {
      "text/plain": [
       "mkt_unique_carrier\n",
       "AA    4.7611038392\n",
       "AS    0.8682661702\n",
       "B6   14.1175505498\n",
       "DL    2.3492978860\n",
       "F9    6.7049500651\n",
       "G4    9.8240626921\n",
       "HA    0.3882077421\n",
       "NK    2.8698294317\n",
       "UA   11.4932978001\n",
       "WN   -0.8955355243\n",
       "Name: arr_delay, dtype: float64"
      ]
     },
     "execution_count": 118,
     "metadata": {},
     "output_type": "execute_result"
    }
   ],
   "source": [
    "# Average Arrival delay for January 2019\n",
    "filt = (flights['fl_date'] > '2019-01-01') & (flights['fl_date'] <= '2019-01-31')\n",
    "avgMonthly_delayJan =flights[filt].groupby(['mkt_unique_carrier'])['arr_delay'].mean()\n",
    "avgMonthly_delayJan "
   ]
  },
  {
   "cell_type": "code",
   "execution_count": 72,
   "metadata": {
    "collapsed": true,
    "jupyter": {
     "outputs_hidden": true
    },
    "tags": []
   },
   "outputs": [
    {
     "data": {
      "text/plain": [
       "mkt_unique_carrier\n",
       "AA    109204424\n",
       "AS     32786227\n",
       "B6     25179426\n",
       "DL     91691699\n",
       "F9      9831795\n",
       "G4      5916381\n",
       "HA      4883746\n",
       "NK     14732135\n",
       "UA     89667719\n",
       "WN     76089105\n",
       "Name: distance, dtype: int64"
      ]
     },
     "execution_count": 72,
     "metadata": {},
     "output_type": "execute_result"
    }
   ],
   "source": [
    "# distance covered in Jan 2019 by different air carriers\n",
    "dist_jan = flights[filt].groupby(['mkt_unique_carrier'])['distance'].sum()\n",
    "dist_jan"
   ]
  },
  {
   "cell_type": "code",
   "execution_count": 73,
   "metadata": {
    "collapsed": true,
    "jupyter": {
     "outputs_hidden": true
    },
    "tags": []
   },
   "outputs": [
    {
     "data": {
      "text/plain": [
       "carrier\n",
       "AA    11890601\n",
       "AS     2580332\n",
       "B6     3265890\n",
       "DL    11224123\n",
       "F9     1626946\n",
       "G4      937311\n",
       "HA      940989\n",
       "NK     2438941\n",
       "UA     8283350\n",
       "WN    12279424\n",
       "Name: passengers, dtype: int64"
      ]
     },
     "execution_count": 73,
     "metadata": {},
     "output_type": "execute_result"
    }
   ],
   "source": [
    "# NUmber of passengers carried January 2019\n",
    "filt1 = ( passengers['month'] ==1) & (passengers['carrier'].isin(['AA','AS','B6','DL','F9','G4','HA','NK','UA','WN']))\n",
    "pass_jan = passengers[filt1].groupby(['carrier'])['passengers'].sum()\n",
    "pass_jan "
   ]
  },
  {
   "cell_type": "code",
   "execution_count": 74,
   "metadata": {
    "collapsed": true,
    "jupyter": {
     "outputs_hidden": true
    },
    "tags": []
   },
   "outputs": [
    {
     "data": {
      "text/plain": [
       "carrier\n",
       "AA   286544730.00000\n",
       "AS    57084165.00000\n",
       "B6    70408211.00000\n",
       "DL   273706863.00000\n",
       "F9    21842481.00000\n",
       "G4    12784069.00000\n",
       "HA    22626587.00000\n",
       "NK    35862515.00000\n",
       "UA   270112946.00000\n",
       "WN   164881708.00000\n",
       "Name: total_gallons, dtype: float64"
      ]
     },
     "execution_count": 74,
     "metadata": {},
     "output_type": "execute_result"
    }
   ],
   "source": [
    "# fuel consumption per carrier Jan 2019\n",
    "filt2 = (fuel['month'] ==1) & (fuel['year'] == 2019) & (fuel['carrier'].isin(['AA','AS','B6','DL','F9','G4','HA','NK','UA','WN']))\n",
    "fuel_jan = fuel[filt2].groupby(['carrier'])['total_gallons'].sum()\n",
    "fuel_jan "
   ]
  },
  {
   "cell_type": "code",
   "execution_count": 90,
   "metadata": {
    "collapsed": true,
    "jupyter": {
     "outputs_hidden": true
    },
    "tags": []
   },
   "outputs": [
    {
     "data": {
      "text/plain": [
       "carrier\n",
       "AA   0.0000001371\n",
       "AS   0.0000004193\n",
       "B6   0.0000005320\n",
       "DL   0.0000001653\n",
       "F9   0.0000008485\n",
       "G4   0.0000014325\n",
       "HA   0.0000030594\n",
       "NK   0.0000006202\n",
       "UA   0.0000002260\n",
       "WN   0.0000001097\n",
       "dtype: float64"
      ]
     },
     "execution_count": 90,
     "metadata": {},
     "output_type": "execute_result"
    }
   ],
   "source": [
    "### average fuel comsumption per passenger per km\n",
    "avg_fuel_per_km_pass =  (fuel_jan/pass_jan)/(dist_jan*1.60934)\n",
    "pd.set_option('display.float_format', lambda x: '%.10f' % x)\n",
    "#avg_fuel_per_km_pass = pd.DataFrame([avg_fuel_per_km_pass])\n",
    "avg_fuel_per_km_pass"
   ]
  },
  {
   "cell_type": "code",
   "execution_count": 133,
   "metadata": {},
   "outputs": [
    {
     "data": {
      "image/png": "[encoded data removed]",
      "text/plain": [
       "<Figure size 864x576 with 1 Axes>"
      ]
     },
     "metadata": {
      "needs_background": "light"
     },
     "output_type": "display_data"
    },
    {
     "data": {
      "image/png": "[encoded data removed]",
      "text/plain": [
       "<Figure size 864x576 with 1 Axes>"
      ]
     },
     "metadata": {
      "needs_background": "light"
     },
     "output_type": "display_data"
    }
   ],
   "source": [
    "# Average Arrival delay for January 2019\n",
    "\n",
    "sns.barplot(x = avgMonthly_delayJan.index ,y = avgMonthly_delayJan.values, palette='Accent')\n",
    "plt.ylabel(\"Average arrival delay\")\n",
    "plt.xlabel(\"Airlines\")\n",
    "plt.title(\"Average Arrival delay for January 2019\")\n",
    "plt.show();\n",
    "\n",
    "# Average fuel Consumption in km/passenger \n",
    "\n",
    "sns.barplot(x = avg_fuel_per_km_pass.index ,y = avg_fuel_per_km_pass.values, palette='GnBu')\n",
    "plt.ylabel(\"Average fuel Consumption in km/passenger\")\n",
    "plt.xlabel(\"Airlines\")\n",
    "plt.title(\"Average fuel per km per passenger for Jan 2019\")\n",
    "plt.show();"
   ]
  }
 ],
 "metadata": {
  "kernelspec": {
   "display_name": "Python 3 (ipykernel)",
   "language": "python",
   "name": "python3"
  },
  "language_info": {
   "codemirror_mode": {
    "name": "ipython",
    "version": 3
   },
   "file_extension": ".py",
   "mimetype": "text/x-python",
   "name": "python",
   "nbconvert_exporter": "python",
   "pygments_lexer": "ipython3",
   "version": "3.8.12"
  },
  "toc": {
   "base_numbering": 1,
   "nav_menu": {},
   "number_sections": true,
   "sideBar": true,
   "skip_h1_title": false,
   "title_cell": "Table of Contents",
   "title_sidebar": "Contents",
   "toc_cell": false,
   "toc_position": {},
   "toc_section_display": true,
   "toc_window_display": false
  },
  "varInspector": {
   "cols": {
    "lenName": 16,
    "lenType": 16,
    "lenVar": 40
   },
   "kernels_config": {
    "python": {
     "delete_cmd_postfix": "",
     "delete_cmd_prefix": "del ",
     "library": "var_list.py",
     "varRefreshCmd": "print(var_dic_list())"
    },
    "r": {
     "delete_cmd_postfix": ") ",
     "delete_cmd_prefix": "rm(",
     "library": "var_list.r",
     "varRefreshCmd": "cat(var_dic_list()) "
    }
   },
   "types_to_exclude": [
    "module",
    "function",
    "builtin_function_or_method",
    "instance",
    "_Feature"
   ],
   "window_display": false
  }
 },
 "nbformat": 4,
 "nbformat_minor": 4
}
